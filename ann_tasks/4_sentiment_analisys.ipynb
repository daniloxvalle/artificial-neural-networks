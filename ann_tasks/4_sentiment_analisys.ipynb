{
 "cells": [
  {
   "cell_type": "markdown",
   "id": "53838dd8",
   "metadata": {},
   "source": [
    "## IMDB Movie Review Dataset - Sentiment Analysis\n",
    "\n",
    "Loads and processes the IMDB Large Movie Review Dataset for sentiment analysis. The dataset contains 50,000 movie reviews split evenly into 25k train and 25k test sets with balanced sentiment labels (positive/negative).\n",
    "\n",
    "### Dataset Structure\n",
    "- **Training set**: 25,000 reviews (12,500 positive, 12,500 negative)\n",
    "- **Test set**: 25,000 reviews (12,500 positive, 12,500 negative)\n",
    "- **Directory structure**: `train/` and `test/` folders, each containing `pos/` and `neg/` subdirectories\n",
    "- **File format**: Individual text files named `[id]_[rating].txt`\n",
    "\n",
    "### Data Loading Function\n",
    "The `load_imdb_data()` function:\n",
    "- **Input**: Path to data directory (train or test)\n",
    "- **Output**: Tuple of (reviews, labels) where reviews are text strings and labels are integers (1=positive, 0=negative)"
   ]
  },
  {
   "cell_type": "code",
   "execution_count": 2,
   "id": "64874632",
   "metadata": {},
   "outputs": [],
   "source": [
    "import os\n",
    "import pandas as pd\n",
    "\n",
    "def load_imdb_data(data_dir):\n",
    "   \n",
    "    reviews = []\n",
    "    labels = []\n",
    "    \n",
    "    # Load positive reviews\n",
    "    pos_dir = os.path.join(data_dir, 'pos')\n",
    "    if os.path.exists(pos_dir):\n",
    "        for filename in os.listdir(pos_dir):\n",
    "            if filename.endswith('.txt'):\n",
    "                with open(os.path.join(pos_dir, filename), 'r', encoding='utf-8') as f:\n",
    "                    reviews.append(f.read())\n",
    "                    labels.append(1)  # Positive label\n",
    "    \n",
    "    # Load negative reviews\n",
    "    neg_dir = os.path.join(data_dir, 'neg')\n",
    "    if os.path.exists(neg_dir):\n",
    "        for filename in os.listdir(neg_dir):\n",
    "            if filename.endswith('.txt'):\n",
    "                with open(os.path.join(neg_dir, filename), 'r', encoding='utf-8') as f:\n",
    "                    reviews.append(f.read())\n",
    "                    labels.append(0)  # Negative label\n",
    "    \n",
    "    return reviews, labels"
   ]
  },
  {
   "cell_type": "markdown",
   "id": "f275b78e",
   "metadata": {},
   "source": [
    "### Load IMDB Dataset\n",
    "Loads the dataset for training and testing."
   ]
  },
  {
   "cell_type": "code",
   "execution_count": 5,
   "id": "82ccd59b",
   "metadata": {},
   "outputs": [
    {
     "name": "stdout",
     "output_type": "stream",
     "text": [
      "\n",
      "Training set shape: (25000, 2)\n",
      "Test set shape: (25000, 2)\n",
      "\n",
      "Training set sentiment distribution:\n",
      "sentiment\n",
      "1    12500\n",
      "0    12500\n",
      "Name: count, dtype: int64\n",
      "\n",
      "Test set sentiment distribution:\n",
      "sentiment\n",
      "1    12500\n",
      "0    12500\n",
      "Name: count, dtype: int64\n"
     ]
    }
   ],
   "source": [
    "# Dataset path - adjust this path according to your dataset location\n",
    "dataset_path = \"imdb_dataset\"\n",
    "\n",
    "train_reviews, train_labels = load_imdb_data(os.path.join(dataset_path, 'train'))\n",
    "\n",
    "test_reviews, test_labels = load_imdb_data(os.path.join(dataset_path, 'test'))\n",
    "\n",
    "train_df = pd.DataFrame({\n",
    "    'review': train_reviews,\n",
    "    'sentiment': train_labels\n",
    "})\n",
    "\n",
    "test_df = pd.DataFrame({\n",
    "    'review': test_reviews,\n",
    "    'sentiment': test_labels\n",
    "})\n",
    "\n",
    "print(f\"\\nTraining set shape: {train_df.shape}\")\n",
    "print(f\"Test set shape: {test_df.shape}\")\n",
    "print(f\"\\nTraining set sentiment distribution:\")\n",
    "print(train_df['sentiment'].value_counts())\n",
    "print(f\"\\nTest set sentiment distribution:\")\n",
    "print(test_df['sentiment'].value_counts())"
   ]
  }
 ],
 "metadata": {
  "kernelspec": {
   "display_name": "Python 3",
   "language": "python",
   "name": "python3"
  },
  "language_info": {
   "codemirror_mode": {
    "name": "ipython",
    "version": 3
   },
   "file_extension": ".py",
   "mimetype": "text/x-python",
   "name": "python",
   "nbconvert_exporter": "python",
   "pygments_lexer": "ipython3",
   "version": "3.12.1"
  }
 },
 "nbformat": 4,
 "nbformat_minor": 5
}
