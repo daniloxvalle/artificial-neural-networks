{
 "cells": [
  {
   "cell_type": "markdown",
   "id": "53838dd8",
   "metadata": {},
   "source": [
    "## IMDB Movie Review Dataset - Sentiment Analysis\n",
    "\n",
    "Loads and processes the IMDB Large Movie Review Dataset for sentiment analysis. The dataset contains 50,000 movie reviews split evenly into 25k train and 25k test sets with balanced sentiment labels (positive/negative).\n",
    "\n",
    "### Dataset Structure\n",
    "- **Training set**: 25,000 reviews (12,500 positive, 12,500 negative)\n",
    "- **Test set**: 25,000 reviews (12,500 positive, 12,500 negative)\n",
    "- **Directory structure**: `train/` and `test/` folders, each containing `pos/` and `neg/` subdirectories\n",
    "- **File format**: Individual text files named `[id]_[rating].txt`\n",
    "\n",
    "### Data Loading Function\n",
    "The `load_imdb_data()` function:\n",
    "- **Input**: Path to data directory (train or test)\n",
    "- **Output**: Tuple of (reviews, labels) where reviews are text strings and labels are integers (1=positive, 0=negative)"
   ]
  },
  {
   "cell_type": "code",
   "execution_count": 15,
   "id": "64874632",
   "metadata": {},
   "outputs": [],
   "source": [
    "import os\n",
    "import pandas as pd\n",
    "\n",
    "def load_imdb_data(data_dir):\n",
    "    reviews = []\n",
    "    labels = []\n",
    "    \n",
    "    # Load positive reviews\n",
    "    pos_dir = os.path.join(data_dir, 'pos')\n",
    "    if os.path.exists(pos_dir):\n",
    "        for filename in os.listdir(pos_dir):\n",
    "            if filename.endswith('.txt'):\n",
    "                with open(os.path.join(pos_dir, filename), 'r', encoding='utf-8') as f:\n",
    "                    reviews.append(f.read())\n",
    "                    labels.append(1)  # Positive label\n",
    "    \n",
    "    # Load negative reviews\n",
    "    neg_dir = os.path.join(data_dir, 'neg')\n",
    "    if os.path.exists(neg_dir):\n",
    "        for filename in os.listdir(neg_dir):\n",
    "            if filename.endswith('.txt'):\n",
    "                with open(os.path.join(neg_dir, filename), 'r', encoding='utf-8') as f:\n",
    "                    reviews.append(f.read())\n",
    "                    labels.append(0)  # Negative label\n",
    "    \n",
    "    return reviews, labels"
   ]
  },
  {
   "cell_type": "markdown",
   "id": "f275b78e",
   "metadata": {},
   "source": [
    "### Load IMDB Dataset\n",
    "Loads the dataset for training and testing."
   ]
  },
  {
   "cell_type": "code",
   "execution_count": 16,
   "id": "82ccd59b",
   "metadata": {},
   "outputs": [
    {
     "name": "stdout",
     "output_type": "stream",
     "text": [
      "\n",
      "Training set shape: (25000, 2)\n",
      "Test set shape: (25000, 2)\n",
      "\n",
      "Training set sentiment distribution:\n",
      "sentiment\n",
      "1    12500\n",
      "0    12500\n",
      "Name: count, dtype: int64\n",
      "\n",
      "Test set sentiment distribution:\n",
      "sentiment\n",
      "1    12500\n",
      "0    12500\n",
      "Name: count, dtype: int64\n"
     ]
    }
   ],
   "source": [
    "# Dataset path - adjust this path according to your dataset location\n",
    "dataset_path = \"imdb_dataset\"\n",
    "\n",
    "train_reviews, train_labels = load_imdb_data(os.path.join(dataset_path, 'train'))\n",
    "\n",
    "test_reviews, test_labels = load_imdb_data(os.path.join(dataset_path, 'test'))\n",
    "\n",
    "train_df = pd.DataFrame({\n",
    "    'review': train_reviews,\n",
    "    'sentiment': train_labels\n",
    "})\n",
    "\n",
    "test_df = pd.DataFrame({\n",
    "    'review': test_reviews,\n",
    "    'sentiment': test_labels\n",
    "})\n",
    "\n",
    "print(f\"\\nTraining set shape: {train_df.shape}\")\n",
    "print(f\"Test set shape: {test_df.shape}\")\n",
    "print(f\"\\nTraining set sentiment distribution:\")\n",
    "print(train_df['sentiment'].value_counts())\n",
    "print(f\"\\nTest set sentiment distribution:\")\n",
    "print(test_df['sentiment'].value_counts())"
   ]
  },
  {
   "cell_type": "markdown",
   "id": "8ca38504",
   "metadata": {},
   "source": [
    "### Binary Mapping for Multi-Class Sentiment Analysis\n",
    "\n",
    "Converts 5-class sentiment predictions to binary classification by aggregating scores from related sentiment categories."
   ]
  },
  {
   "cell_type": "code",
   "execution_count": 103,
   "id": "af4311c3",
   "metadata": {},
   "outputs": [],
   "source": [
    "def map_5class_to_binary(all_scores):\n",
    "    negative_sum = 0.0\n",
    "    positive_sum = 0.0\n",
    "    \n",
    "    for item in all_scores:\n",
    "        label = item['label']\n",
    "        score = item['score']\n",
    "        \n",
    "        if label in ['Very Negative', 'Negative']:\n",
    "            negative_sum += score\n",
    "        elif label in ['Very Positive', 'Positive']:\n",
    "            positive_sum += score\n",
    "    \n",
    "    return 1 if positive_sum > negative_sum else 0"
   ]
  },
  {
   "cell_type": "markdown",
   "id": "dcd0567a",
   "metadata": {},
   "source": [
    "### Multilingual Sentiment Analysis\n",
    "\n",
    "A sentiment analysis classifier using a multilingual model that can handle text in multiple languages.\n",
    "\n",
    "#### Key Components:\n",
    "- **Multilingual Model**: Uses `tabularisai/multilingual-sentiment-analysis` for better language support\n",
    "- **Text Truncation**: Handles long reviews by truncating them to fit model's token limit (512 tokens)\n",
    "- **Token-based Processing**: Uses the model's tokenizer to ensure proper text handling"
   ]
  },
  {
   "cell_type": "code",
   "execution_count": 102,
   "id": "443f72e7",
   "metadata": {},
   "outputs": [
    {
     "name": "stderr",
     "output_type": "stream",
     "text": [
      "Device set to use mps:0\n"
     ]
    }
   ],
   "source": [
    "from transformers import pipeline, AutoTokenizer\n",
    "\n",
    "sentiment_pipeline = pipeline(\"sentiment-analysis\", \n",
    "                             model=\"tabularisai/multilingual-sentiment-analysis\",\n",
    "                             top_k=None)\n",
    "\n",
    "tokenizer = AutoTokenizer.from_pretrained(\"tabularisai/multilingual-sentiment-analysis\")\n",
    "\n",
    "def truncate_text_by_tokens(text, max_len=512):\n",
    "    encoded = tokenizer.encode(text, max_length=max_len, truncation=True)\n",
    "    truncated_text = tokenizer.decode(encoded, skip_special_tokens=True)\n",
    "    return truncated_text\n",
    "\n",
    "def analyze_sentiment(test_df, num_samples):\n",
    "    predicted_df = test_df.sample(n=num_samples, random_state=42).copy()\n",
    "    predictions = []\n",
    "    for review in predicted_df[\"review\"].tolist():\n",
    "        review = truncate_text_by_tokens(review)\n",
    "        raw_scores = sentiment_pipeline(review)\n",
    "        binary_score = map_5class_to_binary(raw_scores[0])\n",
    "        predictions.append(binary_score)\n",
    "    predicted_df[\"predicted_sentiment\"] = predictions\n",
    "    return predicted_df"
   ]
  },
  {
   "cell_type": "markdown",
   "id": "cc02a210",
   "metadata": {},
   "source": [
    "### Model Performance Evaluation\n",
    "\n",
    "Evaluation metrics to assess the performance of the sentiment analysis model.\n",
    "\n",
    "#### Evaluation Metrics:\n",
    "- **Accuracy**\n",
    "- **Precision**\n",
    "- **Recall**\n",
    "- **F1-Score**\n",
    "\n",
    "#### Visualization:\n",
    "- **Confusion Matrix**"
   ]
  },
  {
   "cell_type": "code",
   "execution_count": 104,
   "id": "127852ce",
   "metadata": {},
   "outputs": [],
   "source": [
    "from sklearn.metrics import confusion_matrix, accuracy_score, ConfusionMatrixDisplay, precision_score, recall_score, f1_score\n",
    "\n",
    "def print_metrics(predicted_df):\n",
    "    accuracy = accuracy_score(predicted_df[\"sentiment\"], predicted_df[\"predicted_sentiment\"])\n",
    "    precision = precision_score(predicted_df[\"sentiment\"], predicted_df[\"predicted_sentiment\"])\n",
    "    recall = recall_score(predicted_df[\"sentiment\"], predicted_df[\"predicted_sentiment\"])\n",
    "    f1 = f1_score(predicted_df[\"sentiment\"], predicted_df[\"predicted_sentiment\"])\n",
    "    print(f\"Accuracy: {accuracy:.2%}\")\n",
    "    print(f\"Precision: {precision:.2%}\")\n",
    "    print(f\"Recall: {recall:.2%}\")\n",
    "    print(f\"F1-Score: {f1:.2%}\")\n",
    "    cm = confusion_matrix(predicted_df['sentiment'], predicted_df['predicted_sentiment'])\n",
    "    print(f\"\\nConfusion Matrix:\")\n",
    "    disp = ConfusionMatrixDisplay(confusion_matrix=cm, display_labels=[\"Positive\", \"Negative\"])\n",
    "    disp.plot(cmap=\"Blues\")"
   ]
  },
  {
   "cell_type": "markdown",
   "id": "cc6ac80b",
   "metadata": {},
   "source": [
    "### Run Sentiment Analysis and Evaluate Performance\n",
    "\n",
    "Execute the sentiment analysis on a sample of 1000 test reviews and display comprehensive performance metrics including accuracy, precision, recall, F1-score, and confusion matrix visualization."
   ]
  },
  {
   "cell_type": "code",
   "execution_count": 105,
   "id": "ed434e3e",
   "metadata": {},
   "outputs": [
    {
     "name": "stdout",
     "output_type": "stream",
     "text": [
      "Accuracy: 83.40%\n",
      "Precision: 82.36%\n",
      "Recall: 85.91%\n",
      "F1-Score: 84.10%\n",
      "\n",
      "Confusion Matrix:\n"
     ]
    },
    {
     "data": {
      "image/png": "[encoded data removed]",
      "text/plain": [
       "<Figure size 640x480 with 2 Axes>"
      ]
     },
     "metadata": {},
     "output_type": "display_data"
    }
   ],
   "source": [
    "predicted_df = analyze_sentiment(test_df, num_samples=1000)\n",
    "print_metrics(predicted_df)"
   ]
  }
 ],
 "metadata": {
  "kernelspec": {
   "display_name": "3.11.7",
   "language": "python",
   "name": "python3"
  },
  "language_info": {
   "codemirror_mode": {
    "name": "ipython",
    "version": 3
   },
   "file_extension": ".py",
   "mimetype": "text/x-python",
   "name": "python",
   "nbconvert_exporter": "python",
   "pygments_lexer": "ipython3",
   "version": "3.11.7"
  }
 },
 "nbformat": 4,
 "nbformat_minor": 5
}
